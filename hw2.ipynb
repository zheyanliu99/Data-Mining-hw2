{
 "cells": [
  {
   "cell_type": "code",
   "execution_count": 12,
   "metadata": {},
   "outputs": [],
   "source": [
    "import numpy as np\n",
    "np.random.seed(777)"
   ]
  },
  {
   "cell_type": "markdown",
   "metadata": {},
   "source": [
    "# Question 3"
   ]
  },
  {
   "cell_type": "markdown",
   "metadata": {},
   "source": [
    "## a) Generate a vector x consisting of 50 points drawn at random from Uniform[0,1]"
   ]
  },
  {
   "cell_type": "code",
   "execution_count": 16,
   "metadata": {},
   "outputs": [
    {
     "data": {
      "text/plain": [
       "array([0.02282895, 0.93060174, 0.06619459, 0.12418814, 0.82842641,\n",
       "       0.36812763, 0.04768249, 0.60247133, 0.37106164, 0.68651169,\n",
       "       0.25305283, 0.51846337, 0.57930518, 0.69496954, 0.568014  ,\n",
       "       0.57607863, 0.97195988, 0.09615256, 0.15056744, 0.21890239,\n",
       "       0.18433482, 0.17429123, 0.91739598, 0.087738  , 0.79970306,\n",
       "       0.83145554, 0.27993361, 0.4459065 , 0.76829829, 0.16288936,\n",
       "       0.77254856, 0.53478201, 0.15692983, 0.47321536, 0.70398682,\n",
       "       0.35157667, 0.07338461, 0.48765463, 0.20388045, 0.78410032,\n",
       "       0.15491643, 0.29149967, 0.40241112, 0.07275669, 0.37958101,\n",
       "       0.51590022, 0.71629344, 0.64766257, 0.82290917, 0.77098869])"
      ]
     },
     "execution_count": 16,
     "metadata": {},
     "output_type": "execute_result"
    }
   ],
   "source": [
    "x = np.random.uniform(0,1,50)\n",
    "x"
   ]
  },
  {
   "cell_type": "markdown",
   "metadata": {},
   "source": [
    "## b) Generate 100 training sets."
   ]
  },
  {
   "cell_type": "code",
   "execution_count": 17,
   "metadata": {},
   "outputs": [
    {
     "data": {
      "text/plain": [
       "array([ 0.69505415, -1.2466732 ,  0.92762388, -1.75861797, -1.15460053,\n",
       "       -0.10251046, -0.25159051,  0.94078585,  1.51121306, -1.91066791,\n",
       "        0.7310876 ,  0.81274378, -1.07931974, -0.8288448 ,  0.77886199,\n",
       "        1.2917426 ,  0.20656067,  1.54240843,  0.55025404,  0.52430973,\n",
       "        0.62322369, -0.19716829, -0.31424891,  1.29197452,  0.36402594,\n",
       "       -1.88329233,  1.73925034, -0.21439591, -1.9559875 ,  0.54395436,\n",
       "       -1.44614821, -1.90040881,  0.51845984, -0.03129177, -1.16400716,\n",
       "        0.33154888,  0.15897542, -0.16638059,  0.72412485, -1.18692483,\n",
       "        0.8865807 ,  0.348348  , -0.54584022, -0.037252  ,  1.05343918,\n",
       "       -0.122756  , -1.37374631, -1.78825302, -1.51199176, -2.32020611])"
      ]
     },
     "execution_count": 17,
     "metadata": {},
     "output_type": "execute_result"
    }
   ],
   "source": [
    "y = (np.sin(2*np.pi*x))**3 + np.random.normal(0,1,50)\n",
    "y"
   ]
  },
  {
   "cell_type": "markdown",
   "metadata": {},
   "source": [
    "### i. Fit the data with methods/models listed below."
   ]
  },
  {
   "cell_type": "markdown",
   "metadata": {},
   "source": [
    "### ii. Compute the vector of fitted value y_pred obtained from each method/model."
   ]
  },
  {
   "cell_type": "markdown",
   "metadata": {},
   "source": [
    "## d) for each method/model, you obtain a matrix of fitted values"
   ]
  },
  {
   "cell_type": "markdown",
   "metadata": {},
   "source": [
    "## d) For each method/model, compute the pointwise variance of fitted values across the 100 training sets. Plot the pointwise variance curves (against x) for each method/model."
   ]
  },
  {
   "cell_type": "markdown",
   "metadata": {},
   "source": []
  }
 ],
 "metadata": {
  "kernelspec": {
   "display_name": "Python 3.9.12 ('base')",
   "language": "python",
   "name": "python3"
  },
  "language_info": {
   "codemirror_mode": {
    "name": "ipython",
    "version": 3
   },
   "file_extension": ".py",
   "mimetype": "text/x-python",
   "name": "python",
   "nbconvert_exporter": "python",
   "pygments_lexer": "ipython3",
   "version": "3.9.12"
  },
  "orig_nbformat": 4,
  "vscode": {
   "interpreter": {
    "hash": "7964af9b1e7452cfb7c6a7ce3e275cff13a4e5761013e4703732598be1109817"
   }
  }
 },
 "nbformat": 4,
 "nbformat_minor": 2
}
