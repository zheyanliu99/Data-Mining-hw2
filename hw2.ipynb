{
 "cells": [
  {
   "cell_type": "code",
   "execution_count": 1,
   "metadata": {},
   "outputs": [],
   "source": [
    "import numpy as np\n",
    "np.random.seed(777)\n",
    "import pandas as pd\n",
    "from utils import BSplineFeatures, get_natural_cubic_spline_model"
   ]
  },
  {
   "cell_type": "markdown",
   "metadata": {},
   "source": [
    "# Question 3"
   ]
  },
  {
   "cell_type": "markdown",
   "metadata": {},
   "source": [
    "## a) Generate a vector x consisting of 50 points drawn at random from Uniform[0,1]"
   ]
  },
  {
   "cell_type": "code",
   "execution_count": 2,
   "metadata": {},
   "outputs": [],
   "source": [
    "X = np.random.uniform(0,1,50)\n",
    "# save simulation result in a dict\n",
    "Y_dict = {}"
   ]
  },
  {
   "cell_type": "markdown",
   "metadata": {},
   "source": [
    "## b) Generate 100 training sets."
   ]
  },
  {
   "cell_type": "code",
   "execution_count": 3,
   "metadata": {},
   "outputs": [],
   "source": [
    "X = np.sort(np.random.uniform(0,1,50))\n",
    "y = (np.sin(2*np.pi*X))**3 + np.random.normal(0,1,50)\n",
    "# X = X.reshape(-1,1)"
   ]
  },
  {
   "cell_type": "markdown",
   "metadata": {},
   "source": [
    "### i. Fit the data with methods/models listed below."
   ]
  },
  {
   "cell_type": "markdown",
   "metadata": {},
   "source": [
    "OLS with linear model"
   ]
  },
  {
   "cell_type": "code",
   "execution_count": 4,
   "metadata": {},
   "outputs": [],
   "source": [
    "from sklearn.linear_model import LinearRegression\n",
    "y_list = []\n",
    "for _ in range(0, 100):\n",
    "    y = (np.sin(2*np.pi*X))**3 + np.random.normal(0,1,50)\n",
    "    reg = LinearRegression().fit(X.reshape(-1,1), y)\n",
    "    y_ols = reg.predict(X.reshape(-1,1)).reshape(-1,1)\n",
    "    y_list.append(y_ols)\n",
    "\n",
    "# print('Coefficients: \\n', reg.coef_)\n",
    "# print('Intercept: \\n', reg.intercept_)\n",
    "Y_ols = np.concatenate(y_list, axis=1)\n",
    "Y_dict['ols'] = Y_ols"
   ]
  },
  {
   "cell_type": "markdown",
   "metadata": {},
   "source": [
    "OLS with cubic polynomial model"
   ]
  },
  {
   "cell_type": "code",
   "execution_count": 5,
   "metadata": {},
   "outputs": [],
   "source": [
    "from sklearn.preprocessing import PolynomialFeatures\n",
    "y_list = []\n",
    "for _ in range(0, 100):\n",
    "    # X = np.random.uniform(0,1,50)\n",
    "    y = (np.sin(2*np.pi*X))**3 + np.random.normal(0,1,50)\n",
    "    # X = X.reshape(-1,1)\n",
    "    poly = PolynomialFeatures(degree=3)\n",
    "    X_ = poly.fit_transform(X.reshape(-1,1))\n",
    "    X_ = X_[:,1:]\n",
    "    reg = LinearRegression().fit(X_, y)\n",
    "    y_polyols = reg.predict(X_).reshape(-1,1)\n",
    "    y_list.append(y_polyols)\n",
    "\n",
    "# print('Coefficients: \\n', reg.coef_)\n",
    "# print('Intercept: \\n', reg.intercept_)\n",
    "Y_poly = np.concatenate(y_list, axis=1)\n",
    "Y_dict['poly'] = Y_poly"
   ]
  },
  {
   "cell_type": "markdown",
   "metadata": {},
   "source": [
    "Cubic spline (or B-spline) with 2 knots at 0.33 and 0.66"
   ]
  },
  {
   "cell_type": "code",
   "execution_count": 6,
   "metadata": {},
   "outputs": [],
   "source": [
    "from scipy.interpolate import BSpline, splrep, splev\n",
    "\n",
    "\n",
    "y_list = []\n",
    "for _ in range(0, 100):\n",
    "    X = np.sort(np.random.uniform(0,1,50))\n",
    "    y = (np.sin(2*np.pi*X))**3 + np.random.normal(0,1,50)\n",
    "    Xck = splrep(X, y, t=[0.33, 0.66], k=3)\n",
    "    y_cubic_spl = splev(X, Xck).reshape(-1,1)\n",
    "    y_list.append(y_cubic_spl)\n",
    "\n",
    "# print('Coefficients: \\n', reg.coef_)\n",
    "# print('Intercept: \\n', reg.intercept_)\n",
    "Y_cubic_spl = np.concatenate(y_list, axis=1)\n",
    "Y_dict['cubic_spl'] = Y_cubic_spl\n"
   ]
  },
  {
   "cell_type": "markdown",
   "metadata": {},
   "source": [
    "Natural cubic spline with 5 knots at 0.1,0.3,0.5,0.7,0.9"
   ]
  },
  {
   "cell_type": "code",
   "execution_count": 8,
   "metadata": {},
   "outputs": [],
   "source": [
    "y_list = []\n",
    "for _ in range(0, 100):\n",
    "    # X = np.sort(np.random.uniform(0,1,50))\n",
    "    y = (np.sin(2*np.pi*X))**3 + np.random.normal(0,1,50)\n",
    "    ns = get_natural_cubic_spline_model(X, y, minval=0.1, maxval=0.9, n_knots=9)\n",
    "    y_cubic_nat_spl = ns.predict(X).reshape(-1,1)\n",
    "    y_list.append(y_cubic_nat_spl)\n",
    "\n",
    "Y_cubic_nat_spl = np.concatenate(y_list, axis=1)\n",
    "Y_dict['cubic_nat_spl'] = Y_cubic_nat_spl"
   ]
  },
  {
   "cell_type": "markdown",
   "metadata": {},
   "source": [
    "Smoothing spline with tuning parameter chosen by GCV"
   ]
  },
  {
   "cell_type": "code",
   "execution_count": 9,
   "metadata": {},
   "outputs": [],
   "source": [
    "import numpy as np\n",
    "import csaps\n",
    "\n",
    "y_list = []\n",
    "for _ in range(0, 100):\n",
    "    # X = np.sort(np.random.uniform(0,1,50))\n",
    "    y = (np.sin(2*np.pi*X))**3 + np.random.normal(0,1,50)\n",
    "    sp = csaps.UnivariateCubicSmoothingSpline(X, y, smooth=0.2)\n",
    "    y_smooth_spl = sp(X).reshape(-1,1)\n",
    "    y_list.append(y_smooth_spl)\n",
    "\n",
    "Y_smooth_spl = np.concatenate(y_list, axis=1)\n",
    "Y_dict['smooth_spl'] = Y_smooth_spl\n"
   ]
  },
  {
   "cell_type": "markdown",
   "metadata": {},
   "source": [
    "## c) for each method/model, you obtain a matrix of fitted values"
   ]
  },
  {
   "cell_type": "code",
   "execution_count": 18,
   "metadata": {},
   "outputs": [],
   "source": [
    "# results are saved in Y_dict with keys indicating method and values as matrix of fitted values\n",
    "# print(Y_dict)"
   ]
  },
  {
   "cell_type": "markdown",
   "metadata": {},
   "source": [
    "## d) For each method/model, compute the pointwise variance of fitted values across the 100 training sets. Plot the pointwise variance curves (against x) for each method/model."
   ]
  },
  {
   "cell_type": "markdown",
   "metadata": {},
   "source": [
    "OLS with linear model:"
   ]
  },
  {
   "cell_type": "code",
   "execution_count": null,
   "metadata": {},
   "outputs": [],
   "source": [
    "np.var(Y_ols, axis = 1)"
   ]
  },
  {
   "cell_type": "markdown",
   "metadata": {},
   "source": [
    "OLS with cubic polynomial model: "
   ]
  },
  {
   "cell_type": "code",
   "execution_count": null,
   "metadata": {},
   "outputs": [],
   "source": [
    "np.var(Y_poly, axis = 1)"
   ]
  },
  {
   "cell_type": "markdown",
   "metadata": {},
   "source": [
    "Cubic spline (or B-spline) with 2 knots:"
   ]
  },
  {
   "cell_type": "code",
   "execution_count": null,
   "metadata": {},
   "outputs": [],
   "source": [
    "np.var(Y_cubic_spl, axis = 1)"
   ]
  },
  {
   "cell_type": "markdown",
   "metadata": {},
   "source": [
    "Natural cubic spline with 5 knots:"
   ]
  },
  {
   "cell_type": "code",
   "execution_count": 14,
   "metadata": {},
   "outputs": [
    {
     "data": {
      "text/plain": [
       "array([0.18591125, 0.18447251, 0.16458595, 0.09325814, 0.08678544,\n",
       "       0.07917913, 0.11919667, 0.14558672, 0.1911655 , 0.24258667,\n",
       "       0.29279007, 0.20740344, 0.20729337, 0.25979485, 0.21479825,\n",
       "       0.18183346, 0.13438331, 0.12712894, 0.15831766, 0.16385555,\n",
       "       0.16896881, 0.14517606, 0.13227678, 0.12603886, 0.31785383,\n",
       "       0.34952001, 0.18775492, 0.16699038, 0.17741799, 0.18557497,\n",
       "       0.14607211, 0.1216888 , 0.1203946 , 0.10780592, 0.10784779,\n",
       "       0.11080663, 0.1096157 , 0.10949974, 0.10891502, 0.10534662,\n",
       "       0.09378352, 0.13675094, 0.16407411, 0.14169222, 0.1004892 ,\n",
       "       0.09924581, 0.09234724, 0.28092722, 0.32016799, 0.32372103])"
      ]
     },
     "execution_count": 14,
     "metadata": {},
     "output_type": "execute_result"
    }
   ],
   "source": [
    "np.var(Y_cubic_nat_spl, axis=1)"
   ]
  },
  {
   "cell_type": "markdown",
   "metadata": {},
   "source": [
    "Smoothing spline with tuning parameter chosen by GCV:"
   ]
  },
  {
   "cell_type": "code",
   "execution_count": 15,
   "metadata": {},
   "outputs": [
    {
     "data": {
      "text/plain": [
       "array([0.08476956, 0.08459904, 0.08213369, 0.06961303, 0.06748119,\n",
       "       0.06168593, 0.04993347, 0.04683251, 0.04291233, 0.03935216,\n",
       "       0.03458341, 0.02682235, 0.02523397, 0.02146369, 0.01976498,\n",
       "       0.01915192, 0.01820991, 0.01801103, 0.01589148, 0.01574136,\n",
       "       0.01529988, 0.01483044, 0.01466302, 0.01427365, 0.01403607,\n",
       "       0.0140842 , 0.01506054, 0.01580835, 0.01615341, 0.01637147,\n",
       "       0.01931397, 0.02016803, 0.02022738, 0.02109386, 0.02268881,\n",
       "       0.02519554, 0.0254402 , 0.02546224, 0.02556993, 0.02615587,\n",
       "       0.02956713, 0.03417489, 0.03778057, 0.04466324, 0.05249265,\n",
       "       0.05291642, 0.05696761, 0.09103241, 0.09475819, 0.09508322])"
      ]
     },
     "execution_count": 15,
     "metadata": {},
     "output_type": "execute_result"
    }
   ],
   "source": [
    "np.var(Y_smooth_spl, axis=1)"
   ]
  },
  {
   "cell_type": "markdown",
   "metadata": {},
   "source": [
    "Plot"
   ]
  },
  {
   "cell_type": "code",
   "execution_count": 36,
   "metadata": {},
   "outputs": [
    {
     "data": {
      "image/png": "[encoded data removed]",
      "text/plain": [
       "<Figure size 864x576 with 1 Axes>"
      ]
     },
     "metadata": {
      "needs_background": "light"
     },
     "output_type": "display_data"
    }
   ],
   "source": [
    "from cProfile import label\n",
    "import matplotlib.pyplot as plt\n",
    "plt.rcParams[\"figure.figsize\"] = (12,8)\n",
    "\n",
    "plt.plot(X, np.var(Y_ols, axis = 1), 'o-', label = \"OLS \")\n",
    "plt.plot(X, np.var(Y_poly, axis=1), 'o-', label = \"OLS with cubic polynomial\")\n",
    "plt.plot(X, np.var(Y_cubic_spl, axis=1), 'o-', label = \"Cubic spline\")\n",
    "plt.plot(X, np.var(Y_cubic_nat_spl, axis=1), 'o-', label = \"Natural Cubic Spline\")\n",
    "plt.plot(X, np.var(Y_smooth_spl, axis=1), 'o-', label = \"Smoothing Spline\")\n",
    "leg = plt.legend(loc='upper center')\n",
    "plt.ylim(0,0.7)\n",
    "plt.show()"
   ]
  },
  {
   "cell_type": "markdown",
   "metadata": {},
   "source": [
    "# Question 4"
   ]
  },
  {
   "cell_type": "markdown",
   "metadata": {},
   "source": [
    "The South African heart disease data. Divide the dataset into a training set consisting of the first 300 observations, and\n",
    "a test set consisting of the remaining observations. Apply logistic regression,\n",
    "LDA and QDA on the training set. For each method, report the test error and\n",
    "its standard error over the test set. Briefly discuss your results."
   ]
  },
  {
   "cell_type": "code",
   "execution_count": 45,
   "metadata": {},
   "outputs": [],
   "source": [
    "df = pd.read_csv('data/africa_heart.csv')\n",
    "df[\"famhist\"] = df[\"famhist\"].astype('category')\n",
    "df[\"famhist\"] = df[\"famhist\"].cat.codes\n",
    "df_train =  df.iloc[0:300, :]\n",
    "X_train = df_train.drop(['chd'], axis=1)\n",
    "y_train = df_train.chd\n",
    "df_test =  df.iloc[300:, :]\n",
    "X_test = df_test.drop(['chd'], axis=1)\n",
    "y_test = df_test.chd"
   ]
  },
  {
   "cell_type": "markdown",
   "metadata": {},
   "source": [
    "## Logistic Regression"
   ]
  },
  {
   "cell_type": "code",
   "execution_count": 48,
   "metadata": {},
   "outputs": [
    {
     "name": "stderr",
     "output_type": "stream",
     "text": [
      "/Users/zheyanliu/opt/anaconda3/lib/python3.9/site-packages/sklearn/linear_model/_logistic.py:814: ConvergenceWarning: lbfgs failed to converge (status=1):\n",
      "STOP: TOTAL NO. of ITERATIONS REACHED LIMIT.\n",
      "\n",
      "Increase the number of iterations (max_iter) or scale the data as shown in:\n",
      "    https://scikit-learn.org/stable/modules/preprocessing.html\n",
      "Please also refer to the documentation for alternative solver options:\n",
      "    https://scikit-learn.org/stable/modules/linear_model.html#logistic-regression\n",
      "  n_iter_i = _check_optimize_result(\n"
     ]
    }
   ],
   "source": [
    "from sklearn.linear_model import LogisticRegression\n",
    "\n",
    "logreg = LogisticRegression(random_state=7)\n",
    "logreg.fit(X_train, y_train)\n",
    "y_pred = logreg.predict(X_test)"
   ]
  },
  {
   "cell_type": "markdown",
   "metadata": {},
   "source": [
    "test error"
   ]
  },
  {
   "cell_type": "code",
   "execution_count": 51,
   "metadata": {},
   "outputs": [
    {
     "name": "stdout",
     "output_type": "stream",
     "text": [
      "                       precision    recall  f1-score   support\n",
      "\n",
      "without heart disease       0.79      0.82      0.81       112\n",
      "   with heart disease       0.57      0.52      0.54        50\n",
      "\n",
      "             accuracy                           0.73       162\n",
      "            macro avg       0.68      0.67      0.67       162\n",
      "         weighted avg       0.72      0.73      0.73       162\n",
      "\n"
     ]
    }
   ],
   "source": [
    "from sklearn import metrics\n",
    "from sklearn.metrics import classification_report\n",
    "\n",
    "cnf_matrix = metrics.confusion_matrix(y_test, y_pred)\n",
    "target_names = ['without heart disease', 'with heart disease']\n",
    "print(classification_report(y_test, y_pred, target_names=target_names))"
   ]
  },
  {
   "cell_type": "markdown",
   "metadata": {},
   "source": [
    "std error over test set"
   ]
  },
  {
   "cell_type": "code",
   "execution_count": 52,
   "metadata": {},
   "outputs": [
    {
     "data": {
      "text/plain": [
       "0.03542708249696834"
      ]
     },
     "execution_count": 52,
     "metadata": {},
     "output_type": "execute_result"
    }
   ],
   "source": [
    "np.std(y_pred)/np.sqrt(len(y_pred))"
   ]
  },
  {
   "cell_type": "markdown",
   "metadata": {},
   "source": [
    "## LDA"
   ]
  },
  {
   "cell_type": "code",
   "execution_count": 61,
   "metadata": {},
   "outputs": [],
   "source": [
    "from sklearn.discriminant_analysis import LinearDiscriminantAnalysis\n",
    "clf = LinearDiscriminantAnalysis()\n",
    "clf.fit(X_train, y_train)\n",
    "y_pred = clf.predict(X_test)"
   ]
  },
  {
   "cell_type": "markdown",
   "metadata": {},
   "source": [
    "test error"
   ]
  },
  {
   "cell_type": "code",
   "execution_count": 62,
   "metadata": {},
   "outputs": [
    {
     "name": "stdout",
     "output_type": "stream",
     "text": [
      "                       precision    recall  f1-score   support\n",
      "\n",
      "without heart disease       0.81      0.83      0.82       112\n",
      "   with heart disease       0.60      0.56      0.58        50\n",
      "\n",
      "             accuracy                           0.75       162\n",
      "            macro avg       0.70      0.70      0.70       162\n",
      "         weighted avg       0.74      0.75      0.74       162\n",
      "\n"
     ]
    }
   ],
   "source": [
    "cnf_matrix = metrics.confusion_matrix(y_test, y_pred)\n",
    "print(classification_report(y_test, y_pred, target_names=target_names))"
   ]
  },
  {
   "cell_type": "markdown",
   "metadata": {},
   "source": [
    "std error over test set"
   ]
  },
  {
   "cell_type": "code",
   "execution_count": 58,
   "metadata": {},
   "outputs": [
    {
     "data": {
      "text/plain": [
       "0.035655401181262085"
      ]
     },
     "execution_count": 58,
     "metadata": {},
     "output_type": "execute_result"
    }
   ],
   "source": [
    "np.std(y_pred)/np.sqrt(len(y_pred))"
   ]
  },
  {
   "cell_type": "markdown",
   "metadata": {},
   "source": [
    "## QDA"
   ]
  },
  {
   "cell_type": "code",
   "execution_count": 64,
   "metadata": {},
   "outputs": [],
   "source": [
    "from sklearn.discriminant_analysis import QuadraticDiscriminantAnalysis\n",
    "clf = QuadraticDiscriminantAnalysis()\n",
    "clf.fit(X_train, y_train)\n",
    "y_pred = clf.predict(X_test)"
   ]
  },
  {
   "cell_type": "markdown",
   "metadata": {},
   "source": [
    "test error"
   ]
  },
  {
   "cell_type": "code",
   "execution_count": 65,
   "metadata": {},
   "outputs": [
    {
     "name": "stdout",
     "output_type": "stream",
     "text": [
      "                       precision    recall  f1-score   support\n",
      "\n",
      "without heart disease       0.82      0.80      0.81       112\n",
      "   with heart disease       0.58      0.60      0.59        50\n",
      "\n",
      "             accuracy                           0.74       162\n",
      "            macro avg       0.70      0.70      0.70       162\n",
      "         weighted avg       0.74      0.74      0.74       162\n",
      "\n"
     ]
    }
   ],
   "source": [
    "cnf_matrix = metrics.confusion_matrix(y_test, y_pred)\n",
    "print(classification_report(y_test, y_pred, target_names=target_names))"
   ]
  },
  {
   "cell_type": "markdown",
   "metadata": {},
   "source": [
    "standard error over test set"
   ]
  },
  {
   "cell_type": "code",
   "execution_count": 66,
   "metadata": {},
   "outputs": [
    {
     "data": {
      "text/plain": [
       "0.036679676151223424"
      ]
     },
     "execution_count": 66,
     "metadata": {},
     "output_type": "execute_result"
    }
   ],
   "source": [
    "np.std(y_pred)/np.sqrt(len(y_pred))"
   ]
  },
  {
   "cell_type": "markdown",
   "metadata": {},
   "source": [
    "## Discuss"
   ]
  },
  {
   "cell_type": "markdown",
   "metadata": {},
   "source": [
    "* Logistic Regression has the lowest std error over the test set\n",
    "* LDA has the highest accuracy and f1-score on the without heart disease observations"
   ]
  }
 ],
 "metadata": {
  "kernelspec": {
   "display_name": "Python 3.9.12 ('base')",
   "language": "python",
   "name": "python3"
  },
  "language_info": {
   "codemirror_mode": {
    "name": "ipython",
    "version": 3
   },
   "file_extension": ".py",
   "mimetype": "text/x-python",
   "name": "python",
   "nbconvert_exporter": "python",
   "pygments_lexer": "ipython3",
   "version": "3.9.12"
  },
  "orig_nbformat": 4,
  "vscode": {
   "interpreter": {
    "hash": "7964af9b1e7452cfb7c6a7ce3e275cff13a4e5761013e4703732598be1109817"
   }
  }
 },
 "nbformat": 4,
 "nbformat_minor": 2
}
