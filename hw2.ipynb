{
 "cells": [
  {
   "cell_type": "code",
   "execution_count": 21,
   "metadata": {},
   "outputs": [],
   "source": [
    "import numpy as np\n",
    "import pandas as pd\n",
    "from utils import BSplineFeatures"
   ]
  },
  {
   "cell_type": "markdown",
   "metadata": {},
   "source": [
    "# Question 3"
   ]
  },
  {
   "cell_type": "markdown",
   "metadata": {},
   "source": [
    "## a) Generate a vector x consisting of 50 points drawn at random from Uniform[0,1]"
   ]
  },
  {
   "cell_type": "code",
   "execution_count": 22,
   "metadata": {},
   "outputs": [],
   "source": [
    "X = np.random.uniform(0,1,50)\n",
    "# save simulation result in a dict\n",
    "Y_dict = {}"
   ]
  },
  {
   "cell_type": "markdown",
   "metadata": {},
   "source": [
    "## b) Generate 100 training sets."
   ]
  },
  {
   "cell_type": "code",
   "execution_count": 23,
   "metadata": {},
   "outputs": [],
   "source": [
    "X = np.random.uniform(0,1,50)\n",
    "y = (np.sin(2*np.pi*X))**3 + np.random.normal(0,1,50)\n",
    "X = X.reshape(-1,1)"
   ]
  },
  {
   "cell_type": "markdown",
   "metadata": {},
   "source": [
    "### i. Fit the data with methods/models listed below."
   ]
  },
  {
   "cell_type": "markdown",
   "metadata": {},
   "source": [
    "OLS with linear model"
   ]
  },
  {
   "cell_type": "code",
   "execution_count": 24,
   "metadata": {},
   "outputs": [],
   "source": [
    "from sklearn.linear_model import LinearRegression\n",
    "y_list = []\n",
    "for _ in range(0, 100):\n",
    "    X = np.random.uniform(0,1,50)\n",
    "    y = (np.sin(2*np.pi*X))**3 + np.random.normal(0,1,50)\n",
    "    X = X.reshape(-1,1)\n",
    "    reg = LinearRegression().fit(X, y)\n",
    "    y_ols = reg.predict(X).reshape(-1,1)\n",
    "    y_list.append(y_ols)\n",
    "\n",
    "# print('Coefficients: \\n', reg.coef_)\n",
    "# print('Intercept: \\n', reg.intercept_)\n",
    "Y_ols = np.concatenate(y_list, axis=1)\n",
    "Y_dict['ols'] = Y_ols"
   ]
  },
  {
   "cell_type": "markdown",
   "metadata": {},
   "source": [
    "OLS with cubic polynomial model"
   ]
  },
  {
   "cell_type": "code",
   "execution_count": 25,
   "metadata": {},
   "outputs": [],
   "source": [
    "from sklearn.preprocessing import PolynomialFeatures\n",
    "y_list = []\n",
    "for _ in range(0, 100):\n",
    "    X = np.random.uniform(0,1,50)\n",
    "    y = (np.sin(2*np.pi*X))**3 + np.random.normal(0,1,50)\n",
    "    X = X.reshape(-1,1)\n",
    "    poly = PolynomialFeatures(degree=3)\n",
    "    X_ = poly.fit_transform(X)\n",
    "    X_ = X_[:,1:]\n",
    "    reg = LinearRegression().fit(X_, y)\n",
    "    y_polyols = reg.predict(X_).reshape(-1,1)\n",
    "    y_list.append(y_polyols)\n",
    "\n",
    "# print('Coefficients: \\n', reg.coef_)\n",
    "# print('Intercept: \\n', reg.intercept_)\n",
    "Y_poly = np.concatenate(y_list, axis=1)\n",
    "Y_dict['poly'] = Y_poly"
   ]
  },
  {
   "cell_type": "markdown",
   "metadata": {},
   "source": [
    "Cubic spline (or B-spline) with 2 knots at 0.33 and 0.66"
   ]
  },
  {
   "cell_type": "code",
   "execution_count": 26,
   "metadata": {},
   "outputs": [],
   "source": [
    "from scipy.interpolate import BSpline, splrep, splev\n",
    "\n",
    "\n",
    "y_list = []\n",
    "for _ in range(0, 100):\n",
    "    X = np.sort(np.random.uniform(0,1,50))\n",
    "    y = (np.sin(2*np.pi*X))**3 + np.random.normal(0,1,50)\n",
    "    Xck = splrep(X, y, t=[0.33, 0.66], k=3)\n",
    "    y_cubic_spl = splev(X, Xck).reshape(-1,1)\n",
    "    y_list.append(y_cubic_spl)\n",
    "\n",
    "# print('Coefficients: \\n', reg.coef_)\n",
    "# print('Intercept: \\n', reg.intercept_)\n",
    "Y_cubic_spl = np.concatenate(y_list, axis=1)\n",
    "Y_dict['cubic_spl'] = Y_cubic_spl\n"
   ]
  },
  {
   "cell_type": "markdown",
   "metadata": {},
   "source": [
    "Natural cubic spline with 5 knots at 0.1,0.3,0.5,0.7,0.9"
   ]
  },
  {
   "cell_type": "code",
   "execution_count": 27,
   "metadata": {},
   "outputs": [],
   "source": [
    "\n",
    "from scipy.interpolate import CubicSpline, interp1d\n",
    "\n",
    "y_list = []\n",
    "for _ in range(0, 100):\n",
    "    X = np.sort(np.random.uniform(0,1,50))\n",
    "    y = (np.sin(2*np.pi*X))**3 + np.random.normal(0,1,50)\n",
    "    ns = CubicSpline(X, y,bc_type='natural', extrapolate=True)\n",
    "    y_cubic_nat_spl = ns(X).reshape(-1,1)\n",
    "    y_list.append(y_cubic_nat_spl)\n",
    "\n",
    "# print('Coefficients: \\n', reg.coef_)\n",
    "# print('Intercept: \\n', reg.intercept_)\n",
    "Y_cubic_nat_spl = np.concatenate(y_list, axis=1)\n",
    "Y_dict['cubic_nat_spl'] = Y_cubic_nat_spl"
   ]
  },
  {
   "cell_type": "markdown",
   "metadata": {},
   "source": [
    "Smoothing spline with tuning parameter chosen by GCV"
   ]
  },
  {
   "cell_type": "code",
   "execution_count": 28,
   "metadata": {},
   "outputs": [],
   "source": [
    "import numpy as np\n",
    "import csaps\n",
    "\n",
    "y_list = []\n",
    "for _ in range(0, 100):\n",
    "    X = np.sort(np.random.uniform(0,1,50))\n",
    "    y = (np.sin(2*np.pi*X))**3 + np.random.normal(0,1,50)\n",
    "    sp = csaps.UnivariateCubicSmoothingSpline(X, y)\n",
    "    y_smooth_spl = sp(X).reshape(-1,1)\n",
    "    y_list.append(y_smooth_spl)\n",
    "\n",
    "Y_smooth_spl = np.concatenate(y_list, axis=1)\n",
    "Y_dict['smooth_spl'] = Y_smooth_spl\n"
   ]
  },
  {
   "cell_type": "markdown",
   "metadata": {},
   "source": [
    "### ii. Compute the vector of fitted value y_pred obtained from each method/model."
   ]
  },
  {
   "cell_type": "code",
   "execution_count": null,
   "metadata": {},
   "outputs": [],
   "source": [
    "Y_dict"
   ]
  },
  {
   "cell_type": "markdown",
   "metadata": {},
   "source": [
    "## c) for each method/model, you obtain a matrix of fitted values"
   ]
  },
  {
   "cell_type": "markdown",
   "metadata": {},
   "source": [
    "## d) For each method/model, compute the pointwise variance of fitted values across the 100 training sets. Plot the pointwise variance curves (against x) for each method/model."
   ]
  },
  {
   "cell_type": "markdown",
   "metadata": {},
   "source": [
    "# Question 4"
   ]
  },
  {
   "cell_type": "markdown",
   "metadata": {},
   "source": [
    "The South African heart disease data. Divide the dataset into a training set consisting of the first 300 observations, and\n",
    "a test set consisting of the remaining observations. Apply logistic regression,\n",
    "LDA and QDA on the training set. For each method, report the test error and\n",
    "its standard error over the test set. Briefly discuss your results."
   ]
  },
  {
   "cell_type": "code",
   "execution_count": 29,
   "metadata": {},
   "outputs": [],
   "source": [
    "df = pd.read_csv('data/africa_heart.csv')"
   ]
  },
  {
   "cell_type": "markdown",
   "metadata": {},
   "source": []
  }
 ],
 "metadata": {
  "kernelspec": {
   "display_name": "Python 3.9.12 ('base')",
   "language": "python",
   "name": "python3"
  },
  "language_info": {
   "codemirror_mode": {
    "name": "ipython",
    "version": 3
   },
   "file_extension": ".py",
   "mimetype": "text/x-python",
   "name": "python",
   "nbconvert_exporter": "python",
   "pygments_lexer": "ipython3",
   "version": "3.9.12"
  },
  "orig_nbformat": 4,
  "vscode": {
   "interpreter": {
    "hash": "7964af9b1e7452cfb7c6a7ce3e275cff13a4e5761013e4703732598be1109817"
   }
  }
 },
 "nbformat": 4,
 "nbformat_minor": 2
}
